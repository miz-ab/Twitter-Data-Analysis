{
  "nbformat": 4,
  "nbformat_minor": 0,
  "metadata": {
    "colab": {
      "name": "Untitled0.ipynb",
      "provenance": [],
      "collapsed_sections": [],
      "authorship_tag": "ABX9TyPaw1uWLNsCFo/ZH9wrcTqM",
      "include_colab_link": true
    },
    "kernelspec": {
      "name": "python3",
      "display_name": "Python 3"
    },
    "language_info": {
      "name": "python"
    }
  },
  "cells": [
    {
      "cell_type": "markdown",
      "metadata": {
        "id": "view-in-github",
        "colab_type": "text"
      },
      "source": [
        "<a href=\"https://colab.research.google.com/github/miz-ab/Twitter-Data-Analysis/blob/main/day_3.ipynb\" target=\"_parent\"><img src=\"https://colab.research.google.com/assets/colab-badge.svg\" alt=\"Open In Colab\"/></a>"
      ]
    },
    {
      "cell_type": "code",
      "metadata": {
        "id": "GaeZk1Wo-ote"
      },
      "source": [
        "import pandas as pd"
      ],
      "execution_count": 75,
      "outputs": []
    },
    {
      "cell_type": "code",
      "metadata": {
        "colab": {
          "base_uri": "https://localhost:8080/"
        },
        "id": "A62GPEBY-4dT",
        "outputId": "1c75e36a-be68-43ef-8b97-0fecd732d5fd"
      },
      "source": [
        "data = pd.read_csv(\"https://raw.githubusercontent.com/NatnaelSisay/task-2/master/output.csv\");\n",
        "\n",
        "print(data.sample(10))"
      ],
      "execution_count": 76,
      "outputs": [
        {
          "output_type": "stream",
          "text": [
            "      Unnamed: 0  ...                    place\n",
            "2506        2506  ...                      NaN\n",
            "669          669  ...               Denver, CO\n",
            "1653        1653  ...                      NaN\n",
            "1955        1955  ...                      NaN\n",
            "1511        1511  ...                     N/Ao\n",
            "6169        6169  ...  Cape Town, South Africa\n",
            "5638        5638  ...                      NaN\n",
            "5750        5750  ...             Exchange 👉👉👉\n",
            "4147        4147  ...                      NaN\n",
            "3082        3082  ...                 Paraguay\n",
            "\n",
            "[10 rows x 16 columns]\n"
          ],
          "name": "stdout"
        }
      ]
    },
    {
      "cell_type": "code",
      "metadata": {
        "colab": {
          "base_uri": "https://localhost:8080/",
          "height": 359
        },
        "id": "qLeJmHnQ_N1K",
        "outputId": "cbed3656-6d60-4175-c633-7e5f8a756530"
      },
      "source": [
        "cleanTweet = data[['original_text', 'polarity']].rename({'original_text': 'clean_text'}, axis=1)\n",
        "cleanTweet.sample(10)"
      ],
      "execution_count": 77,
      "outputs": [
        {
          "output_type": "execute_result",
          "data": {
            "text/html": [
              "<div>\n",
              "<style scoped>\n",
              "    .dataframe tbody tr th:only-of-type {\n",
              "        vertical-align: middle;\n",
              "    }\n",
              "\n",
              "    .dataframe tbody tr th {\n",
              "        vertical-align: top;\n",
              "    }\n",
              "\n",
              "    .dataframe thead th {\n",
              "        text-align: right;\n",
              "    }\n",
              "</style>\n",
              "<table border=\"1\" class=\"dataframe\">\n",
              "  <thead>\n",
              "    <tr style=\"text-align: right;\">\n",
              "      <th></th>\n",
              "      <th>clean_text</th>\n",
              "      <th>polarity</th>\n",
              "    </tr>\n",
              "  </thead>\n",
              "  <tbody>\n",
              "    <tr>\n",
              "      <th>480</th>\n",
              "      <td>Dr Moeti is head of WHO in Africa, and one of ...</td>\n",
              "      <td>0.133333</td>\n",
              "    </tr>\n",
              "    <tr>\n",
              "      <th>2716</th>\n",
              "      <td>Hi Jamaica,\\n\\nFYI Cuba- the smallest Latin Am...</td>\n",
              "      <td>0.000000</td>\n",
              "    </tr>\n",
              "    <tr>\n",
              "      <th>5283</th>\n",
              "      <td>Pin Code:[411041] \\nNavale Medical College\\nVa...</td>\n",
              "      <td>-0.375000</td>\n",
              "    </tr>\n",
              "    <tr>\n",
              "      <th>3673</th>\n",
              "      <td>204,344 #COVID19 vaccines have been administer...</td>\n",
              "      <td>0.337500</td>\n",
              "    </tr>\n",
              "    <tr>\n",
              "      <th>5318</th>\n",
              "      <td>How??? With the data coming out it's showing t...</td>\n",
              "      <td>0.066667</td>\n",
              "    </tr>\n",
              "    <tr>\n",
              "      <th>2812</th>\n",
              "      <td>Zweli please just release the graphic designer...</td>\n",
              "      <td>0.000000</td>\n",
              "    </tr>\n",
              "    <tr>\n",
              "      <th>4160</th>\n",
              "      <td>Transplant recipients, hope is on the way. \\n\\...</td>\n",
              "      <td>0.200000</td>\n",
              "    </tr>\n",
              "    <tr>\n",
              "      <th>3581</th>\n",
              "      <td>Informative thread on getting #COVID19 vaccine...</td>\n",
              "      <td>0.000000</td>\n",
              "    </tr>\n",
              "    <tr>\n",
              "      <th>2474</th>\n",
              "      <td>Some good news for Friday. Yesterday we had ou...</td>\n",
              "      <td>0.155556</td>\n",
              "    </tr>\n",
              "    <tr>\n",
              "      <th>4996</th>\n",
              "      <td>Breaking: 410,000 Moderna #COVID19 vaccines wi...</td>\n",
              "      <td>0.050000</td>\n",
              "    </tr>\n",
              "  </tbody>\n",
              "</table>\n",
              "</div>"
            ],
            "text/plain": [
              "                                             clean_text  polarity\n",
              "480   Dr Moeti is head of WHO in Africa, and one of ...  0.133333\n",
              "2716  Hi Jamaica,\\n\\nFYI Cuba- the smallest Latin Am...  0.000000\n",
              "5283  Pin Code:[411041] \\nNavale Medical College\\nVa... -0.375000\n",
              "3673  204,344 #COVID19 vaccines have been administer...  0.337500\n",
              "5318  How??? With the data coming out it's showing t...  0.066667\n",
              "2812  Zweli please just release the graphic designer...  0.000000\n",
              "4160  Transplant recipients, hope is on the way. \\n\\...  0.200000\n",
              "3581  Informative thread on getting #COVID19 vaccine...  0.000000\n",
              "2474  Some good news for Friday. Yesterday we had ou...  0.155556\n",
              "4996  Breaking: 410,000 Moderna #COVID19 vaccines wi...  0.050000"
            ]
          },
          "metadata": {
            "tags": []
          },
          "execution_count": 77
        }
      ]
    },
    {
      "cell_type": "code",
      "metadata": {
        "colab": {
          "base_uri": "https://localhost:8080/"
        },
        "id": "LRALYliq_STa",
        "outputId": "b60ad720-f56e-41cb-c33c-9b3a62c3f653"
      },
      "source": [
        "cleanTweet.info()"
      ],
      "execution_count": 78,
      "outputs": [
        {
          "output_type": "stream",
          "text": [
            "<class 'pandas.core.frame.DataFrame'>\n",
            "RangeIndex: 6532 entries, 0 to 6531\n",
            "Data columns (total 2 columns):\n",
            " #   Column      Non-Null Count  Dtype  \n",
            "---  ------      --------------  -----  \n",
            " 0   clean_text  6532 non-null   object \n",
            " 1   polarity    6532 non-null   float64\n",
            "dtypes: float64(1), object(1)\n",
            "memory usage: 102.2+ KB\n"
          ],
          "name": "stdout"
        }
      ]
    },
    {
      "cell_type": "code",
      "metadata": {
        "id": "84hTNzh4_aFr"
      },
      "source": [
        "def text_category(p):\n",
        "    if p > 0:\n",
        "        return 'positive'\n",
        "    elif p < 0:\n",
        "        return 'negative'\n",
        "    else:\n",
        "        return 'neutral'"
      ],
      "execution_count": 79,
      "outputs": []
    },
    {
      "cell_type": "code",
      "metadata": {
        "id": "4H2wpAo7_eNz"
      },
      "source": [
        "cleanTweet['score'] = cleanTweet[\"polarity\"].map(text_category)"
      ],
      "execution_count": 80,
      "outputs": []
    },
    {
      "cell_type": "code",
      "metadata": {
        "id": "oUhYk_d-_h0y"
      },
      "source": [
        "import matplotlib.pyplot as plt\n",
        "import seaborn as sns "
      ],
      "execution_count": 81,
      "outputs": []
    },
    {
      "cell_type": "code",
      "metadata": {
        "colab": {
          "base_uri": "https://localhost:8080/",
          "height": 439
        },
        "id": "P_X0tnBp_mZa",
        "outputId": "e60877a2-e3b3-46eb-9184-150a33643058"
      },
      "source": [
        "fig,axis=plt.subplots(figsize=(8,6))\n",
        "cleanTweet.groupby('score')['clean_text'].count().plot.bar(ax=axis)"
      ],
      "execution_count": 82,
      "outputs": [
        {
          "output_type": "execute_result",
          "data": {
            "text/plain": [
              "<matplotlib.axes._subplots.AxesSubplot at 0x7f0da22cb250>"
            ]
          },
          "metadata": {
            "tags": []
          },
          "execution_count": 82
        },
        {
          "output_type": "display_data",
          "data": {
            "image/png": "[encoded data removed]",
            "text/plain": [
              "<Figure size 576x432 with 1 Axes>"
            ]
          },
          "metadata": {
            "tags": [],
            "needs_background": "light"
          }
        }
      ]
    },
    {
      "cell_type": "code",
      "metadata": {
        "colab": {
          "base_uri": "https://localhost:8080/",
          "height": 374
        },
        "id": "4TOQUyTy_qyE",
        "outputId": "5e7399d5-d44d-4340-99fa-4a1129466e74"
      },
      "source": [
        "fig,axis=plt.subplots(figsize=(8,6))\n",
        "cleanTweet.groupby('score')['clean_text'].count().plot.pie(ax=axis)"
      ],
      "execution_count": 83,
      "outputs": [
        {
          "output_type": "execute_result",
          "data": {
            "text/plain": [
              "<matplotlib.axes._subplots.AxesSubplot at 0x7f0da23db890>"
            ]
          },
          "metadata": {
            "tags": []
          },
          "execution_count": 83
        },
        {
          "output_type": "display_data",
          "data": {
            "image/png": "[encoded data removed]",
            "text/plain": [
              "<Figure size 576x432 with 1 Axes>"
            ]
          },
          "metadata": {
            "tags": []
          }
        }
      ]
    },
    {
      "cell_type": "code",
      "metadata": {
        "colab": {
          "base_uri": "https://localhost:8080/",
          "height": 204
        },
        "id": "FX-OcREY_187",
        "outputId": "2411c1f3-1ffd-488c-b737-16b13207764a"
      },
      "source": [
        "#remove rows from cleanTweet where polarity = 0\n",
        "\n",
        "cleanTweet = cleanTweet[cleanTweet['polarity'] != 0]\n",
        "\n",
        "cleanTweet.reset_index(drop=True, inplace=True)\n",
        "cleanTweet.head()"
      ],
      "execution_count": 84,
      "outputs": [
        {
          "output_type": "execute_result",
          "data": {
            "text/html": [
              "<div>\n",
              "<style scoped>\n",
              "    .dataframe tbody tr th:only-of-type {\n",
              "        vertical-align: middle;\n",
              "    }\n",
              "\n",
              "    .dataframe tbody tr th {\n",
              "        vertical-align: top;\n",
              "    }\n",
              "\n",
              "    .dataframe thead th {\n",
              "        text-align: right;\n",
              "    }\n",
              "</style>\n",
              "<table border=\"1\" class=\"dataframe\">\n",
              "  <thead>\n",
              "    <tr style=\"text-align: right;\">\n",
              "      <th></th>\n",
              "      <th>clean_text</th>\n",
              "      <th>polarity</th>\n",
              "      <th>score</th>\n",
              "    </tr>\n",
              "  </thead>\n",
              "  <tbody>\n",
              "    <tr>\n",
              "      <th>0</th>\n",
              "      <td>🚨Africa is \"in the midst of a full-blown third...</td>\n",
              "      <td>0.166667</td>\n",
              "      <td>positive</td>\n",
              "    </tr>\n",
              "    <tr>\n",
              "      <th>1</th>\n",
              "      <td>Dr Moeti is head of WHO in Africa, and one of ...</td>\n",
              "      <td>0.133333</td>\n",
              "      <td>positive</td>\n",
              "    </tr>\n",
              "    <tr>\n",
              "      <th>2</th>\n",
              "      <td>Thank you @research2note for creating this ama...</td>\n",
              "      <td>0.316667</td>\n",
              "      <td>positive</td>\n",
              "    </tr>\n",
              "    <tr>\n",
              "      <th>3</th>\n",
              "      <td>Former Pfizer VP and Virologist, Dr. Michael Y...</td>\n",
              "      <td>0.086111</td>\n",
              "      <td>positive</td>\n",
              "    </tr>\n",
              "    <tr>\n",
              "      <th>4</th>\n",
              "      <td>I think it’s important that we don’t sell COVA...</td>\n",
              "      <td>0.280000</td>\n",
              "      <td>positive</td>\n",
              "    </tr>\n",
              "  </tbody>\n",
              "</table>\n",
              "</div>"
            ],
            "text/plain": [
              "                                          clean_text  polarity     score\n",
              "0  🚨Africa is \"in the midst of a full-blown third...  0.166667  positive\n",
              "1  Dr Moeti is head of WHO in Africa, and one of ...  0.133333  positive\n",
              "2  Thank you @research2note for creating this ama...  0.316667  positive\n",
              "3  Former Pfizer VP and Virologist, Dr. Michael Y...  0.086111  positive\n",
              "4  I think it’s important that we don’t sell COVA...  0.280000  positive"
            ]
          },
          "metadata": {
            "tags": []
          },
          "execution_count": 84
        }
      ]
    },
    {
      "cell_type": "code",
      "metadata": {
        "colab": {
          "base_uri": "https://localhost:8080/",
          "height": 204
        },
        "id": "BQsHnbtoAa9C",
        "outputId": "37a1e2b5-1e77-4c68-ee1b-12e50fa25683"
      },
      "source": [
        "def get_score(v):\n",
        "    if v == 'positive':\n",
        "      return 1\n",
        "    else:\n",
        "      return 0\n",
        "    \n",
        "cleanTweet['scoremap'] = cleanTweet['score'].map(get_score)\n",
        "cleanTweet.head()"
      ],
      "execution_count": 85,
      "outputs": [
        {
          "output_type": "execute_result",
          "data": {
            "text/html": [
              "<div>\n",
              "<style scoped>\n",
              "    .dataframe tbody tr th:only-of-type {\n",
              "        vertical-align: middle;\n",
              "    }\n",
              "\n",
              "    .dataframe tbody tr th {\n",
              "        vertical-align: top;\n",
              "    }\n",
              "\n",
              "    .dataframe thead th {\n",
              "        text-align: right;\n",
              "    }\n",
              "</style>\n",
              "<table border=\"1\" class=\"dataframe\">\n",
              "  <thead>\n",
              "    <tr style=\"text-align: right;\">\n",
              "      <th></th>\n",
              "      <th>clean_text</th>\n",
              "      <th>polarity</th>\n",
              "      <th>score</th>\n",
              "      <th>scoremap</th>\n",
              "    </tr>\n",
              "  </thead>\n",
              "  <tbody>\n",
              "    <tr>\n",
              "      <th>0</th>\n",
              "      <td>🚨Africa is \"in the midst of a full-blown third...</td>\n",
              "      <td>0.166667</td>\n",
              "      <td>positive</td>\n",
              "      <td>1</td>\n",
              "    </tr>\n",
              "    <tr>\n",
              "      <th>1</th>\n",
              "      <td>Dr Moeti is head of WHO in Africa, and one of ...</td>\n",
              "      <td>0.133333</td>\n",
              "      <td>positive</td>\n",
              "      <td>1</td>\n",
              "    </tr>\n",
              "    <tr>\n",
              "      <th>2</th>\n",
              "      <td>Thank you @research2note for creating this ama...</td>\n",
              "      <td>0.316667</td>\n",
              "      <td>positive</td>\n",
              "      <td>1</td>\n",
              "    </tr>\n",
              "    <tr>\n",
              "      <th>3</th>\n",
              "      <td>Former Pfizer VP and Virologist, Dr. Michael Y...</td>\n",
              "      <td>0.086111</td>\n",
              "      <td>positive</td>\n",
              "      <td>1</td>\n",
              "    </tr>\n",
              "    <tr>\n",
              "      <th>4</th>\n",
              "      <td>I think it’s important that we don’t sell COVA...</td>\n",
              "      <td>0.280000</td>\n",
              "      <td>positive</td>\n",
              "      <td>1</td>\n",
              "    </tr>\n",
              "  </tbody>\n",
              "</table>\n",
              "</div>"
            ],
            "text/plain": [
              "                                          clean_text  ...  scoremap\n",
              "0  🚨Africa is \"in the midst of a full-blown third...  ...         1\n",
              "1  Dr Moeti is head of WHO in Africa, and one of ...  ...         1\n",
              "2  Thank you @research2note for creating this ama...  ...         1\n",
              "3  Former Pfizer VP and Virologist, Dr. Michael Y...  ...         1\n",
              "4  I think it’s important that we don’t sell COVA...  ...         1\n",
              "\n",
              "[5 rows x 4 columns]"
            ]
          },
          "metadata": {
            "tags": []
          },
          "execution_count": 85
        }
      ]
    },
    {
      "cell_type": "code",
      "metadata": {
        "id": "_HNmyEBIA2m7"
      },
      "source": [
        "X = cleanTweet['clean_text'] #for clean_text\n",
        "y = cleanTweet['scoremap'] #for scoremap"
      ],
      "execution_count": 86,
      "outputs": []
    },
    {
      "cell_type": "code",
      "metadata": {
        "id": "4A-TlbKDBmdy"
      },
      "source": [
        "from sklearn.model_selection import train_test_split"
      ],
      "execution_count": 87,
      "outputs": []
    },
    {
      "cell_type": "code",
      "metadata": {
        "id": "s12ki0LwBn7i"
      },
      "source": [
        "x_train, x_test, y_train, y_test = train_test_split(X, y)"
      ],
      "execution_count": 88,
      "outputs": []
    },
    {
      "cell_type": "code",
      "metadata": {
        "id": "uMQCyMw0B4Wz"
      },
      "source": [
        "from sklearn.linear_model import SGDClassifier\n",
        "from sklearn.feature_extraction.text import CountVectorizer"
      ],
      "execution_count": 89,
      "outputs": []
    },
    {
      "cell_type": "code",
      "metadata": {
        "colab": {
          "base_uri": "https://localhost:8080/"
        },
        "id": "aioUQUxDCF0i",
        "outputId": "c2722136-1be0-4e83-a535-b523e5fea98f"
      },
      "source": [
        "cv = CountVectorizer(ngram_range=(3, 3))\n",
        "X_train_cv = cv.fit_transform(x_train)\n",
        "X_test_cv = cv.transform(x_test)\n",
        "X_train_cv"
      ],
      "execution_count": 90,
      "outputs": [
        {
          "output_type": "execute_result",
          "data": {
            "text/plain": [
              "<3527x22980 sparse matrix of type '<class 'numpy.int64'>'\n",
              "\twith 114818 stored elements in Compressed Sparse Row format>"
            ]
          },
          "metadata": {
            "tags": []
          },
          "execution_count": 90
        }
      ]
    },
    {
      "cell_type": "code",
      "metadata": {
        "colab": {
          "base_uri": "https://localhost:8080/"
        },
        "id": "ptj3a8XyCMOK",
        "outputId": "e6099579-e418-4eb3-b786-68790adba464"
      },
      "source": [
        "clf = SGDClassifier()\n",
        "clf.fit(X_train_cv, y_train)\n",
        "predictions = clf.predict(X_test_cv)"
      ],
      "execution_count": 91,
      "outputs": [
        {
          "output_type": "stream",
          "text": [
            "/usr/local/lib/python3.7/dist-packages/sklearn/linear_model/_base.py:295: DeprecationWarning: `np.int` is a deprecated alias for the builtin `int`. To silence this warning, use `int` by itself. Doing this will not modify any behavior and is safe. When replacing `np.int`, you may wish to use e.g. `np.int64` or `np.int32` to specify the precision. If you wish to review your current use, check the release note link for additional information.\n",
            "Deprecated in NumPy 1.20; for more details and guidance: https://numpy.org/devdocs/release/1.20.0-notes.html#deprecations\n",
            "  indices = (scores > 0).astype(np.int)\n"
          ],
          "name": "stderr"
        }
      ]
    },
    {
      "cell_type": "code",
      "metadata": {
        "id": "vutQ4V38CQRq"
      },
      "source": [
        "from sklearn.metrics import confusion_matrix"
      ],
      "execution_count": 92,
      "outputs": []
    },
    {
      "cell_type": "code",
      "metadata": {
        "colab": {
          "base_uri": "https://localhost:8080/"
        },
        "id": "U73NdGbfCZ4S",
        "outputId": "092ddebc-5a93-403b-ac1a-cec5d5e1db7f"
      },
      "source": [
        "results = confusion_matrix(y_test, predictions) \n",
        "results"
      ],
      "execution_count": 93,
      "outputs": [
        {
          "output_type": "execute_result",
          "data": {
            "text/plain": [
              "array([[280,  47],\n",
              "       [  2, 847]])"
            ]
          },
          "metadata": {
            "tags": []
          },
          "execution_count": 93
        }
      ]
    },
    {
      "cell_type": "code",
      "metadata": {
        "id": "pXNva0kQCfpS"
      },
      "source": [
        "from sklearn.metrics import accuracy_score"
      ],
      "execution_count": 94,
      "outputs": []
    },
    {
      "cell_type": "code",
      "metadata": {
        "colab": {
          "base_uri": "https://localhost:8080/"
        },
        "id": "LmNYECkmCruK",
        "outputId": "1fa3197c-ca61-4de7-89ca-c555eb269157"
      },
      "source": [
        "accuracy_score(y_test, predictions)"
      ],
      "execution_count": 95,
      "outputs": [
        {
          "output_type": "execute_result",
          "data": {
            "text/plain": [
              "0.9583333333333334"
            ]
          },
          "metadata": {
            "tags": []
          },
          "execution_count": 95
        }
      ]
    },
    {
      "cell_type": "code",
      "metadata": {
        "id": "vaYNNss3C2hy"
      },
      "source": [
        "from sklearn. metrics import classification_report"
      ],
      "execution_count": 96,
      "outputs": []
    },
    {
      "cell_type": "code",
      "metadata": {
        "colab": {
          "base_uri": "https://localhost:8080/"
        },
        "id": "AOe-6dXJDNpC",
        "outputId": "2d0a0240-7dfd-499a-8558-7883db9a9145"
      },
      "source": [
        "print(classification_report(y_test, predictions))"
      ],
      "execution_count": 97,
      "outputs": [
        {
          "output_type": "stream",
          "text": [
            "              precision    recall  f1-score   support\n",
            "\n",
            "           0       0.99      0.86      0.92       327\n",
            "           1       0.95      1.00      0.97       849\n",
            "\n",
            "    accuracy                           0.96      1176\n",
            "   macro avg       0.97      0.93      0.95      1176\n",
            "weighted avg       0.96      0.96      0.96      1176\n",
            "\n"
          ],
          "name": "stdout"
        }
      ]
    },
    {
      "cell_type": "code",
      "metadata": {
        "id": "9Z8kxcHAb6j3"
      },
      "source": [
        "import numpy as np\n",
        "import json\n",
        "import glob\n",
        "#Gensim\n",
        "import gensim\n",
        "import gensim.corpora as corpora\n",
        "from gensim.utils import simple_preprocess\n",
        "from gensim.models import CoherenceModel\n",
        "#spacy\n",
        "import spacy\n",
        "from nltk.corpus import stopwords\n",
        "\n",
        "\n"
      ],
      "execution_count": 98,
      "outputs": []
    },
    {
      "cell_type": "code",
      "metadata": {
        "id": "zUUN6ZObf32r"
      },
      "source": [
        "!pip install pyLDAvis"
      ],
      "execution_count": null,
      "outputs": []
    },
    {
      "cell_type": "code",
      "metadata": {
        "id": "zzvz589ApGiI"
      },
      "source": [
        "import nltk"
      ],
      "execution_count": 100,
      "outputs": []
    },
    {
      "cell_type": "code",
      "metadata": {
        "colab": {
          "base_uri": "https://localhost:8080/"
        },
        "id": "JBj2P-t6pZoX",
        "outputId": "5c1a9689-f01a-48d7-d5fd-7e1eda374b7a"
      },
      "source": [
        "nltk.download('stopwords')"
      ],
      "execution_count": 101,
      "outputs": [
        {
          "output_type": "stream",
          "text": [
            "[nltk_data] Downloading package stopwords to /root/nltk_data...\n",
            "[nltk_data]   Package stopwords is already up-to-date!\n"
          ],
          "name": "stdout"
        },
        {
          "output_type": "execute_result",
          "data": {
            "text/plain": [
              "True"
            ]
          },
          "metadata": {
            "tags": []
          },
          "execution_count": 101
        }
      ]
    },
    {
      "cell_type": "code",
      "metadata": {
        "id": "fzX9burepkWA"
      },
      "source": [
        "stopwords = stopwords.words(\"english\")"
      ],
      "execution_count": 102,
      "outputs": []
    },
    {
      "cell_type": "code",
      "metadata": {
        "colab": {
          "base_uri": "https://localhost:8080/"
        },
        "id": "Z5ef8uatppHg",
        "outputId": "d2ce9092-7160-497a-f7f8-15e6c7f575e6"
      },
      "source": [
        "print(stopwords)"
      ],
      "execution_count": 103,
      "outputs": [
        {
          "output_type": "stream",
          "text": [
            "['i', 'me', 'my', 'myself', 'we', 'our', 'ours', 'ourselves', 'you', \"you're\", \"you've\", \"you'll\", \"you'd\", 'your', 'yours', 'yourself', 'yourselves', 'he', 'him', 'his', 'himself', 'she', \"she's\", 'her', 'hers', 'herself', 'it', \"it's\", 'its', 'itself', 'they', 'them', 'their', 'theirs', 'themselves', 'what', 'which', 'who', 'whom', 'this', 'that', \"that'll\", 'these', 'those', 'am', 'is', 'are', 'was', 'were', 'be', 'been', 'being', 'have', 'has', 'had', 'having', 'do', 'does', 'did', 'doing', 'a', 'an', 'the', 'and', 'but', 'if', 'or', 'because', 'as', 'until', 'while', 'of', 'at', 'by', 'for', 'with', 'about', 'against', 'between', 'into', 'through', 'during', 'before', 'after', 'above', 'below', 'to', 'from', 'up', 'down', 'in', 'out', 'on', 'off', 'over', 'under', 'again', 'further', 'then', 'once', 'here', 'there', 'when', 'where', 'why', 'how', 'all', 'any', 'both', 'each', 'few', 'more', 'most', 'other', 'some', 'such', 'no', 'nor', 'not', 'only', 'own', 'same', 'so', 'than', 'too', 'very', 's', 't', 'can', 'will', 'just', 'don', \"don't\", 'should', \"should've\", 'now', 'd', 'll', 'm', 'o', 're', 've', 'y', 'ain', 'aren', \"aren't\", 'couldn', \"couldn't\", 'didn', \"didn't\", 'doesn', \"doesn't\", 'hadn', \"hadn't\", 'hasn', \"hasn't\", 'haven', \"haven't\", 'isn', \"isn't\", 'ma', 'mightn', \"mightn't\", 'mustn', \"mustn't\", 'needn', \"needn't\", 'shan', \"shan't\", 'shouldn', \"shouldn't\", 'wasn', \"wasn't\", 'weren', \"weren't\", 'won', \"won't\", 'wouldn', \"wouldn't\"]\n"
          ],
          "name": "stdout"
        }
      ]
    },
    {
      "cell_type": "code",
      "metadata": {
        "id": "3SvsiHDepsVJ"
      },
      "source": [
        "tweet = data[['original_text']]"
      ],
      "execution_count": 104,
      "outputs": []
    },
    {
      "cell_type": "code",
      "metadata": {
        "id": "67O2jvxxrJMP"
      },
      "source": [
        "print(tweet.sample(10))"
      ],
      "execution_count": null,
      "outputs": []
    },
    {
      "cell_type": "code",
      "metadata": {
        "id": "lyn_-3gGr2YQ"
      },
      "source": [
        "def lemmatization(texts, allowed_postags=[\"NOUN\", \"ADJ\", \"VERB\", \"ADV\"]):\n",
        "    nlp = spacy.load(\"en_core_web_sm\", disable=[\"parser\", \"ner\"])\n",
        "    texts_out = []\n",
        "    for text in texts:\n",
        "        doc = nlp(text)\n",
        "        new_text = []\n",
        "        for token in doc:\n",
        "            if token.pos_ in allowed_postags:\n",
        "                new_text.append(token.lemma_)\n",
        "        final = \" \".join(new_text)\n",
        "        texts_out.append(final)\n",
        "    return (texts_out)\n",
        "\n",
        "\n",
        "lemmatized_texts = lemmatization(tweet)\n"
      ],
      "execution_count": null,
      "outputs": []
    },
    {
      "cell_type": "code",
      "metadata": {
        "id": "7onGNh7YsQtn"
      },
      "source": [
        "print (lemmatized_texts)"
      ],
      "execution_count": null,
      "outputs": []
    },
    {
      "cell_type": "code",
      "metadata": {
        "id": "LRwrCh5Zseem"
      },
      "source": [
        "def gen_words(texts):\n",
        "    final = []\n",
        "    for text in texts:\n",
        "        new = gensim.utils.simple_preprocess(text, deacc=True)\n",
        "        final.append(new)\n",
        "    return (final)\n",
        "\n",
        "data_words = gen_words(lemmatized_texts)\n",
        "\n",
        "print (data_words)"
      ],
      "execution_count": null,
      "outputs": []
    }
  ]
}